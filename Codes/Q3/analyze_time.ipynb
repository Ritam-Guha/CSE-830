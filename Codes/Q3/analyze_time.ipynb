{
 "cells": [
  {
   "cell_type": "code",
   "execution_count": 1,
   "metadata": {},
   "outputs": [],
   "source": [
    "import matplotlib.pyplot as plt"
   ]
  },
  {
   "cell_type": "code",
   "execution_count": 17,
   "metadata": {},
   "outputs": [
    {
     "data": {
      "text/plain": [
       "['10,0.000006,0.000010\\n',\n",
       " '100,0.000042,0.000041\\n',\n",
       " '1000,0.000482,0.000374\\n',\n",
       " '10000,0.006009,0.003530\\n',\n",
       " '100000,0.064756,0.037395\\n',\n",
       " '1000000,0.730027,0.369612\\n',\n",
       " '2000000,2.140899,0.932781\\n',\n",
       " '3000000,4.214303,1.832144\\n']"
      ]
     },
     "execution_count": 17,
     "metadata": {},
     "output_type": "execute_result"
    }
   ],
   "source": [
    "f = open(\"Performance.txt\", \"r\")\n",
    "list_vals = f.readlines()\n",
    "list_vals"
   ]
  },
  {
   "cell_type": "code",
   "execution_count": 22,
   "metadata": {},
   "outputs": [
    {
     "name": "stdout",
     "output_type": "stream",
     "text": [
      "input size: 10.0, time bst: 6e-06, time hash: 1e-05\n",
      "input size: 100.0, time bst: 4.2e-05, time hash: 4.1e-05\n",
      "input size: 1000.0, time bst: 0.000482, time hash: 0.000374\n",
      "input size: 10000.0, time bst: 0.006009, time hash: 0.00353\n",
      "input size: 100000.0, time bst: 0.064756, time hash: 0.037395\n",
      "input size: 1000000.0, time bst: 0.730027, time hash: 0.369612\n",
      "input size: 2000000.0, time bst: 2.140899, time hash: 0.932781\n",
      "input size: 3000000.0, time bst: 4.214303, time hash: 1.832144\n"
     ]
    }
   ],
   "source": [
    "time_comparison = {\n",
    "    \"input_size\": [],\n",
    "    \"time_bst\": [],\n",
    "    \"time_hash\": []\n",
    "}\n",
    "\n",
    "for list_val in list_vals:\n",
    "    list_val = list_val.replace(\"\\n \", \"\")\n",
    "    input_size, time_bst, time_hash = [float(val) for val in list_val.split(\",\")]\n",
    "    time_comparison[\"input_size\"].append(input_size)\n",
    "    time_comparison[\"time_bst\"].append(time_bst)\n",
    "    time_comparison[\"time_hash\"].append(time_hash)\n",
    "\n",
    "    print(f\"input size: {input_size}, time bst: {time_bst}, time hash: {time_hash}\")"
   ]
  },
  {
   "cell_type": "code",
   "execution_count": 30,
   "metadata": {},
   "outputs": [
    {
     "data": {
      "image/png": "[encoded data removed]",
      "text/plain": [
       "<Figure size 432x288 with 1 Axes>"
      ]
     },
     "metadata": {
      "needs_background": "light"
     },
     "output_type": "display_data"
    }
   ],
   "source": [
    "plt.plot(time_comparison[\"input_size\"], time_comparison[\"time_bst\"], c=\"b\", label=\"BST\")\n",
    "plt.plot(time_comparison[\"input_size\"], time_comparison[\"time_hash\"], c=\"r\", label=\"Hash Table\")\n",
    "plt.legend(loc=\"upper right\")\n",
    "plt.xlabel(\"Input Size\")\n",
    "plt.ylabel(\"Time Required (in s)\")\n",
    "plt.title(\"Time Comparison of Insertion in BST and Hash Table\")\n",
    "plt.savefig(\"Time_comparison_BST_Hash.jpg\")\n",
    "plt.show()"
   ]
  },
  {
   "cell_type": "code",
   "execution_count": null,
   "metadata": {},
   "outputs": [],
   "source": []
  }
 ],
 "metadata": {
  "interpreter": {
   "hash": "1ee38ef4a5a9feb55287fd749643f13d043cb0a7addaab2a9c224cbe137c0062"
  },
  "kernelspec": {
   "display_name": "Python 3.8.10 64-bit",
   "language": "python",
   "name": "python3"
  },
  "language_info": {
   "codemirror_mode": {
    "name": "ipython",
    "version": 3
   },
   "file_extension": ".py",
   "mimetype": "text/x-python",
   "name": "python",
   "nbconvert_exporter": "python",
   "pygments_lexer": "ipython3",
   "version": "3.8.12"
  },
  "orig_nbformat": 4
 },
 "nbformat": 4,
 "nbformat_minor": 2
}
